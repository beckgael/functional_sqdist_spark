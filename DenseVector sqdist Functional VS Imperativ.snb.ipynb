{
  "metadata" : {
    "id" : "d52d4648-20e0-46eb-9547-83852175f4ad",
    "name" : "DenseVector sqdist Functional VS Imperativ",
    "user_save_timestamp" : "1970-01-01T01:00:00.000Z",
    "auto_save_timestamp" : "1970-01-01T01:00:00.000Z",
    "language_info" : {
      "name" : "scala",
      "file_extension" : "scala",
      "codemirror_mode" : "text/x-scala"
    },
    "trusted" : true,
    "sparkNotebook" : null,
    "customLocalRepo" : null,
    "customRepos" : null,
    "customDeps" : null,
    "customImports" : null,
    "customArgs" : null,
    "customSparkConf" : null,
    "customVars" : null
  },
  "cells" : [
    {
      "metadata" : {
        "id" : "6B04544B4A9B47739AB9A810FCC6A63E"
      },
      "cell_type" : "markdown",
      "source" : "# Functional vs Imperativ style Spark DenseVector sqdist"
    },
    {
      "metadata" : {
        "trusted" : true,
        "input_collapsed" : false,
        "collapsed" : false,
        "id" : "0F8B4E99E62E40F48F0D3843A39A2D86"
      },
      "cell_type" : "code",
      "source" : [
        "import org.apache.spark.ml.linalg.{Vector, SparseVector, Vectors, DenseVector}"
      ],
      "outputs" : [
        {
          "name" : "stdout",
          "output_type" : "stream",
          "text" : "import org.apache.spark.ml.linalg.{Vector, SparseVector, Vectors, DenseVector}\n"
        },
        {
          "metadata" : { },
          "data" : {
            "text/html" : ""
          },
          "output_type" : "execute_result",
          "execution_count" : 7,
          "time" : "Took: 0.466s, at 2018-11-20 10:02"
        }
      ]
    },
    {
      "metadata" : {
        "id" : "5FBA13355F114D5595A0FCB7153D99BF"
      },
      "cell_type" : "markdown",
      "source" : "## This method is the original one imported from spark github, the name of the function is modify and also `Vectors.sqdist` is used rather than `sqdist`"
    },
    {
      "metadata" : {
        "trusted" : true,
        "input_collapsed" : false,
        "collapsed" : false,
        "id" : "C722E5D951C542348DBC335420DDC448"
      },
      "cell_type" : "code",
      "source" : [
        "def sqdistImperativ(v1: Vector, v2: Vector): Double = {\n",
        "  require(v1.size == v2.size, s\"Vector dimensions do not match: Dim(v1)=${v1.size} and Dim(v2)\" +\n",
        "    s\"=${v2.size}.\")\n",
        "  var squaredDistance = 0.0\n",
        "  (v1, v2) match {\n",
        "    case (v1: SparseVector, v2: SparseVector) =>\n",
        "      val v1Values = v1.values\n",
        "      val v1Indices = v1.indices\n",
        "      val v2Values = v2.values\n",
        "      val v2Indices = v2.indices\n",
        "      val nnzv1 = v1Indices.length\n",
        "      val nnzv2 = v2Indices.length\n",
        "\n",
        "      var kv1 = 0\n",
        "      var kv2 = 0\n",
        "      while (kv1 < nnzv1 || kv2 < nnzv2) {\n",
        "        var score = 0.0\n",
        "\n",
        "        if (kv2 >= nnzv2 || (kv1 < nnzv1 && v1Indices(kv1) < v2Indices(kv2))) {\n",
        "          score = v1Values(kv1)\n",
        "          kv1 += 1\n",
        "        } else if (kv1 >= nnzv1 || (kv2 < nnzv2 && v2Indices(kv2) < v1Indices(kv1))) {\n",
        "          score = v2Values(kv2)\n",
        "          kv2 += 1\n",
        "        } else {\n",
        "          score = v1Values(kv1) - v2Values(kv2)\n",
        "          kv1 += 1\n",
        "          kv2 += 1\n",
        "        }\n",
        "        squaredDistance += score * score\n",
        "      }\n",
        "\n",
        "    case (v1: SparseVector, v2: DenseVector) =>\n",
        "      squaredDistance = Vectors.sqdist(v1, v2)\n",
        "\n",
        "    case (v1: DenseVector, v2: SparseVector) =>\n",
        "      squaredDistance = Vectors.sqdist(v2, v1)\n",
        "\n",
        "    case (DenseVector(vv1), DenseVector(vv2)) =>\n",
        "      var kv = 0\n",
        "      val sz = vv1.length\n",
        "      while (kv < sz) {\n",
        "        val score = vv1(kv) - vv2(kv)\n",
        "        squaredDistance += score * score\n",
        "        kv += 1\n",
        "      }\n",
        "    case _ =>\n",
        "      throw new IllegalArgumentException(\"Do not support vector type \" + v1.getClass +\n",
        "        \" and \" + v2.getClass)\n",
        "  }\n",
        "  squaredDistance\n",
        "}"
      ],
      "outputs" : [
        {
          "name" : "stdout",
          "output_type" : "stream",
          "text" : "sqdistImperativ: (v1: org.apache.spark.ml.linalg.Vector, v2: org.apache.spark.ml.linalg.Vector)Double\n"
        },
        {
          "metadata" : { },
          "data" : {
            "text/html" : ""
          },
          "output_type" : "execute_result",
          "execution_count" : 8,
          "time" : "Took: 0.634s, at 2018-11-20 10:02"
        }
      ]
    },
    {
      "metadata" : {
        "id" : "C564D453D8904840B2D3886CD62C4C91"
      },
      "cell_type" : "markdown",
      "source" : "## This function is the functional one with tail recursiv call for DenseVector case"
    },
    {
      "metadata" : {
        "trusted" : true,
        "input_collapsed" : false,
        "collapsed" : false,
        "id" : "FC4C140F2E7B4B27A68148419D6C3F74"
      },
      "cell_type" : "code",
      "source" : [
        "def sqdistFunctional(v1: Vector, v2: Vector): Double = {\n",
        "  require(v1.size == v2.size, s\"Vector dimensions do not match: Dim(v1)=${v1.size} and Dim(v2)\" +\n",
        "    s\"=${v2.size}.\")\n",
        "  var squaredDistance = 0.0\n",
        "  (v1, v2) match {\n",
        "    case (v1: SparseVector, v2: SparseVector) =>\n",
        "      val v1Values = v1.values\n",
        "      val v1Indices = v1.indices\n",
        "      val v2Values = v2.values\n",
        "      val v2Indices = v2.indices\n",
        "      val nnzv1 = v1Indices.length\n",
        "      val nnzv2 = v2Indices.length\n",
        "\n",
        "      var kv1 = 0\n",
        "      var kv2 = 0\n",
        "      while (kv1 < nnzv1 || kv2 < nnzv2) {\n",
        "        var score = 0.0\n",
        "\n",
        "        if (kv2 >= nnzv2 || (kv1 < nnzv1 && v1Indices(kv1) < v2Indices(kv2))) {\n",
        "          score = v1Values(kv1)\n",
        "          kv1 += 1\n",
        "        } else if (kv1 >= nnzv1 || (kv2 < nnzv2 && v2Indices(kv2) < v1Indices(kv1))) {\n",
        "          score = v2Values(kv2)\n",
        "          kv2 += 1\n",
        "        } else {\n",
        "          score = v1Values(kv1) - v2Values(kv2)\n",
        "          kv1 += 1\n",
        "          kv2 += 1\n",
        "        }\n",
        "        squaredDistance += score * score\n",
        "      }\n",
        "\n",
        "    case (v1: SparseVector, v2: DenseVector) =>\n",
        "      squaredDistance = Vectors.sqdist(v1, v2)\n",
        "\n",
        "    case (v1: DenseVector, v2: SparseVector) =>\n",
        "      squaredDistance = Vectors.sqdist(v2, v1)\n",
        "\n",
        "    case (DenseVector(vv1), DenseVector(vv2)) =>\n",
        "      val sz = vv1.length\n",
        "      @annotation.tailrec\n",
        "      def go(d: Double, kv: Int): Double = {\n",
        "        if (kv < sz) {\n",
        "          val score = vv1(kv) - vv2(kv)\n",
        "          go(d + score * score, kv + 1)\n",
        "        }\n",
        "        else d\n",
        "      }\n",
        "      go(0D, 0)\n",
        "    case _ =>\n",
        "      throw new IllegalArgumentException(\"Do not support vector type \" + v1.getClass +\n",
        "        \" and \" + v2.getClass)\n",
        "  }\n",
        "  squaredDistance\n",
        "}"
      ],
      "outputs" : [
        {
          "name" : "stdout",
          "output_type" : "stream",
          "text" : "sqdistFunctional: (v1: org.apache.spark.ml.linalg.Vector, v2: org.apache.spark.ml.linalg.Vector)Double\n"
        },
        {
          "metadata" : { },
          "data" : {
            "text/html" : ""
          },
          "output_type" : "execute_result",
          "execution_count" : 9,
          "time" : "Took: 0.633s, at 2018-11-20 10:02"
        }
      ]
    },
    {
      "metadata" : {
        "id" : "73FD55D644B14EA9B4429C1A4C4CAEA0"
      },
      "cell_type" : "markdown",
      "source" : "## My humble speedtest, i know it has to be more rigorous with specific JVM performance tools but results looks encouraging in the favor of functional approach especially for medium and high dimensions"
    },
    {
      "metadata" : {
        "trusted" : true,
        "input_collapsed" : false,
        "collapsed" : false,
        "presentation" : {
          "tabs_state" : "{\n  \"tab_id\": \"#tab2142903573-0\"\n}",
          "pivot_chart_state" : "{\n  \"hiddenAttributes\": [],\n  \"menuLimit\": 200,\n  \"cols\": [],\n  \"rows\": [],\n  \"vals\": [],\n  \"exclusions\": {},\n  \"inclusions\": {},\n  \"unusedAttrsVertical\": 85,\n  \"autoSortUnusedAttrs\": false,\n  \"inclusionsInfo\": {},\n  \"aggregatorName\": \"Count\",\n  \"rendererName\": \"Table\"\n}"
        },
        "id" : "341F3CF1D456448FB38CD225E5A1B6EC"
      },
      "cell_type" : "code",
      "source" : [
        "val numberRuns = 1000000\n",
        "val warmUpRun = 600000\n",
        "// val vectorSizes = Array(3, 10, 50, 100, 1000)\n",
        "// val vectorSizes = Array(2, 3, 5, 7, 10)\n",
        "val vectorSizes = Array(10, 20, 40, 60, 80, 100, 200)\n",
        "// val vectorSizes = Array(100, 1000, 10000)\n",
        "\n",
        "val times = vectorSizes.map( vSize => {\n",
        "\n",
        "  var ti = 0L\n",
        "  var tf = 0L\n",
        "\n",
        "  (0 until numberRuns).foreach( i =>  {\n",
        "\n",
        "    val dv1 = Vectors.dense(Array.fill(vSize)(scala.util.Random.nextDouble))\n",
        "    val dv2 = Vectors.dense(Array.fill(vSize)(scala.util.Random.nextDouble))\n",
        "\n",
        "    val t01 = System.nanoTime\n",
        "    sqdistImperativ(dv1, dv2)\n",
        "    val t02 = System.nanoTime\n",
        "    sqdistFunctional(dv1, dv2)\n",
        "    val t03 = System.nanoTime\n",
        "\n",
        "    if( i >= warmUpRun ) {\n",
        "      ti += t02 - t01\n",
        "      tf += t03 - t02\n",
        "    }\n",
        "  })\n",
        "\n",
        "\n",
        "  val totalTimeSorted = Array((\"Imperativ\", ti), (\"Functional\", tf)).sortBy(_._2)\n",
        "  (vSize, totalTimeSorted)\n",
        "})\n",
        "\n",
        "val flatten = times.flatMap{ case (vSize, ttimes) => ttimes.map{ case (id, tab) => (vSize, id, tab) } }\n",
        "\n",
        "flatten"
      ],
      "outputs" : [
        {
          "name" : "stdout",
          "output_type" : "stream",
          "text" : "numberRuns: Int = 1000000\nwarmUpRun: Int = 600000\nvectorSizes: Array[Int] = Array(10, 20, 40, 60, 80, 100, 200)\ntimes: Array[(Int, Array[(String, Long)])] = Array((10,Array((Functional,22438685), (Imperativ,26230969))), (20,Array((Functional,21433623), (Imperativ,25964069))), (40,Array((Functional,21721776), (Imperativ,31009769))), (60,Array((Functional,22339339), (Imperativ,39731951))), (80,Array((Functional,21685000), (Imperativ,48099742))), (100,Array((Functional,22453746), (Imperativ,57582411))), (200,Array((Functional,24642399), (Imperativ,107086209))))\nflatten: Array[(Int, String, Long)] = Array((10,Functional,22438685), (10,Imperativ,26230969), (20,Functional,21433623), (20,Imperativ,25964069), (40,Functional,21721776), (40,Imperativ,31009769), (60,Functional,22339339), (60,Imper..."
        },
        {
          "metadata" : { },
          "data" : {
            "text/html" : "<div>\n      <script data-this=\"{&quot;dataId&quot;:&quot;anon7ef7a76285fed13f348b0816dd705214&quot;,&quot;dataInit&quot;:[],&quot;genId&quot;:&quot;2142903573&quot;}\" type=\"text/x-scoped-javascript\">/*<![CDATA[*/req(['../javascripts/notebook/playground','../javascripts/notebook/magic/tabs'], \n      function(playground, _magictabs) {\n        // data ==> data-this (in observable.js's scopedEval) ==> this in JS => { dataId, dataInit, ... }\n        // this ==> scope (in observable.js's scopedEval) ==> this.parentElement ==> div.container below (toHtml)\n\n        playground.call(data,\n                        this\n                        ,\n                        {\n    \"f\": _magictabs,\n    \"o\": {}\n  }\n  \n                        \n                        \n                      );\n      }\n    );/*]]>*/</script>\n    <div>\n      <div>\n        <ul class=\"nav nav-tabs\" id=\"ul2142903573\"><li>\n              <a href=\"#tab2142903573-0\"><i class=\"fa fa-table\"/></a>\n            </li><li>\n              <a href=\"#tab2142903573-1\"><i class=\"fa fa-cubes\"/></a>\n            </li></ul>\n\n        <div class=\"tab-content\" id=\"tab2142903573\"><div class=\"tab-pane\" id=\"tab2142903573-0\">\n            <div>\n      <script data-this=\"{&quot;dataId&quot;:&quot;anon624e80cba405957e1cdc2c3ec632e902&quot;,&quot;dataInit&quot;:[{&quot;_1&quot;:10,&quot;_2&quot;:&quot;Functional&quot;,&quot;_3&quot;:22438685},{&quot;_1&quot;:10,&quot;_2&quot;:&quot;Imperativ&quot;,&quot;_3&quot;:26230969},{&quot;_1&quot;:20,&quot;_2&quot;:&quot;Functional&quot;,&quot;_3&quot;:21433623},{&quot;_1&quot;:20,&quot;_2&quot;:&quot;Imperativ&quot;,&quot;_3&quot;:25964069},{&quot;_1&quot;:40,&quot;_2&quot;:&quot;Functional&quot;,&quot;_3&quot;:21721776},{&quot;_1&quot;:40,&quot;_2&quot;:&quot;Imperativ&quot;,&quot;_3&quot;:31009769},{&quot;_1&quot;:60,&quot;_2&quot;:&quot;Functional&quot;,&quot;_3&quot;:22339339},{&quot;_1&quot;:60,&quot;_2&quot;:&quot;Imperativ&quot;,&quot;_3&quot;:39731951},{&quot;_1&quot;:80,&quot;_2&quot;:&quot;Functional&quot;,&quot;_3&quot;:21685000},{&quot;_1&quot;:80,&quot;_2&quot;:&quot;Imperativ&quot;,&quot;_3&quot;:48099742},{&quot;_1&quot;:100,&quot;_2&quot;:&quot;Functional&quot;,&quot;_3&quot;:22453746},{&quot;_1&quot;:100,&quot;_2&quot;:&quot;Imperativ&quot;,&quot;_3&quot;:57582411},{&quot;_1&quot;:200,&quot;_2&quot;:&quot;Functional&quot;,&quot;_3&quot;:24642399},{&quot;_1&quot;:200,&quot;_2&quot;:&quot;Imperativ&quot;,&quot;_3&quot;:107086209}],&quot;genId&quot;:&quot;66661861&quot;}\" type=\"text/x-scoped-javascript\">/*<![CDATA[*/req(['../javascripts/notebook/playground','../javascripts/notebook/magic/tableChart'], \n      function(playground, _magictableChart) {\n        // data ==> data-this (in observable.js's scopedEval) ==> this in JS => { dataId, dataInit, ... }\n        // this ==> scope (in observable.js's scopedEval) ==> this.parentElement ==> div.container below (toHtml)\n\n        playground.call(data,\n                        this\n                        ,\n                        {\n    \"f\": _magictableChart,\n    \"o\": {\"headers\":[\"_1\",\"_2\",\"_3\"],\"width\":600,\"height\":400}\n  }\n  \n                        \n                        \n                      );\n      }\n    );/*]]>*/</script>\n    <div>\n      <span class=\"chart-total-item-count\"><p data-bind=\"text: value\"><script data-this=\"{&quot;valueId&quot;:&quot;anond2d45fd5927ea557d1327afe5ebf932e&quot;,&quot;initialValue&quot;:&quot;14&quot;}\" type=\"text/x-scoped-javascript\">/*<![CDATA[*/\nreq(\n['observable', 'knockout'],\nfunction (O, ko) {\n  ko.applyBindings({\n      value: O.makeObservable(valueId, initialValue)\n    },\n    this\n  );\n});\n        /*]]>*/</script></p> entries total</span>\n      <span class=\"chart-sampling-warning\"><p data-bind=\"text: value\"><script data-this=\"{&quot;valueId&quot;:&quot;anon0211a9a1f4dd13994b884b35dcdf92e4&quot;,&quot;initialValue&quot;:&quot;&quot;}\" type=\"text/x-scoped-javascript\">/*<![CDATA[*/\nreq(\n['observable', 'knockout'],\nfunction (O, ko) {\n  ko.applyBindings({\n      value: O.makeObservable(valueId, initialValue)\n    },\n    this\n  );\n});\n        /*]]>*/</script></p></span>\n      <div>\n      </div>\n    </div></div>\n            </div><div class=\"tab-pane\" id=\"tab2142903573-1\">\n            <div>\n      <script data-this=\"{&quot;dataId&quot;:&quot;anonb430bd2bef0fe4b53029c54913279ce6&quot;,&quot;dataInit&quot;:[{&quot;_1&quot;:10,&quot;_2&quot;:&quot;Functional&quot;,&quot;_3&quot;:22438685},{&quot;_1&quot;:10,&quot;_2&quot;:&quot;Imperativ&quot;,&quot;_3&quot;:26230969},{&quot;_1&quot;:20,&quot;_2&quot;:&quot;Functional&quot;,&quot;_3&quot;:21433623},{&quot;_1&quot;:20,&quot;_2&quot;:&quot;Imperativ&quot;,&quot;_3&quot;:25964069},{&quot;_1&quot;:40,&quot;_2&quot;:&quot;Functional&quot;,&quot;_3&quot;:21721776},{&quot;_1&quot;:40,&quot;_2&quot;:&quot;Imperativ&quot;,&quot;_3&quot;:31009769},{&quot;_1&quot;:60,&quot;_2&quot;:&quot;Functional&quot;,&quot;_3&quot;:22339339},{&quot;_1&quot;:60,&quot;_2&quot;:&quot;Imperativ&quot;,&quot;_3&quot;:39731951},{&quot;_1&quot;:80,&quot;_2&quot;:&quot;Functional&quot;,&quot;_3&quot;:21685000},{&quot;_1&quot;:80,&quot;_2&quot;:&quot;Imperativ&quot;,&quot;_3&quot;:48099742},{&quot;_1&quot;:100,&quot;_2&quot;:&quot;Functional&quot;,&quot;_3&quot;:22453746},{&quot;_1&quot;:100,&quot;_2&quot;:&quot;Imperativ&quot;,&quot;_3&quot;:57582411},{&quot;_1&quot;:200,&quot;_2&quot;:&quot;Functional&quot;,&quot;_3&quot;:24642399},{&quot;_1&quot;:200,&quot;_2&quot;:&quot;Imperativ&quot;,&quot;_3&quot;:107086209}],&quot;genId&quot;:&quot;772600188&quot;}\" type=\"text/x-scoped-javascript\">/*<![CDATA[*/req(['../javascripts/notebook/playground','../javascripts/notebook/magic/pivotChart'], \n      function(playground, _magicpivotChart) {\n        // data ==> data-this (in observable.js's scopedEval) ==> this in JS => { dataId, dataInit, ... }\n        // this ==> scope (in observable.js's scopedEval) ==> this.parentElement ==> div.container below (toHtml)\n\n        playground.call(data,\n                        this\n                        ,\n                        {\n    \"f\": _magicpivotChart,\n    \"o\": {\"width\":600,\"height\":400,\"derivedAttributes\":{},\"extraOptions\":{}}\n  }\n  \n                        \n                        \n                      );\n      }\n    );/*]]>*/</script>\n    <div>\n      <span class=\"chart-total-item-count\"><p data-bind=\"text: value\"><script data-this=\"{&quot;valueId&quot;:&quot;anon327a45f9d573efefc7cb9bc0748c8537&quot;,&quot;initialValue&quot;:&quot;14&quot;}\" type=\"text/x-scoped-javascript\">/*<![CDATA[*/\nreq(\n['observable', 'knockout'],\nfunction (O, ko) {\n  ko.applyBindings({\n      value: O.makeObservable(valueId, initialValue)\n    },\n    this\n  );\n});\n        /*]]>*/</script></p> entries total</span>\n      <span class=\"chart-sampling-warning\"><p data-bind=\"text: value\"><script data-this=\"{&quot;valueId&quot;:&quot;anon4e26d396cca66606b1c88fbff72ff366&quot;,&quot;initialValue&quot;:&quot;&quot;}\" type=\"text/x-scoped-javascript\">/*<![CDATA[*/\nreq(\n['observable', 'knockout'],\nfunction (O, ko) {\n  ko.applyBindings({\n      value: O.makeObservable(valueId, initialValue)\n    },\n    this\n  );\n});\n        /*]]>*/</script></p></span>\n      <div>\n      </div>\n    </div></div>\n            </div></div>\n      </div>\n    </div></div>"
          },
          "data_list" : {
            "application/svg+pngbase64" : [ ]
          },
          "output_type" : "execute_result",
          "execution_count" : 15,
          "time" : "Took: 25.385s, at 2018-11-20 10:05"
        }
      ]
    }
  ],
  "nbformat" : 4
}